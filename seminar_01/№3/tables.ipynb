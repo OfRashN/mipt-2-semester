{
 "cells": [
  {
   "cell_type": "code",
   "execution_count": 7,
   "id": "4fa13840-07c2-45c6-afb3-d931f3b92faa",
   "metadata": {},
   "outputs": [],
   "source": [
    "import argparse\n",
    "import seaborn as sns\n",
    "import pandas as pd\n",
    "import matplotlib.pyplot as plt"
   ]
  },
  {
   "cell_type": "code",
   "execution_count": 18,
   "id": "cede8ebf-c2b6-4c9a-906a-e975658e3043",
   "metadata": {},
   "outputs": [
    {
     "name": "stderr",
     "output_type": "stream",
     "text": [
      "usage: ipykernel_launcher.py [-h] month year\n",
      "ipykernel_launcher.py: error: the following arguments are required: year\n"
     ]
    },
    {
     "ename": "SystemExit",
     "evalue": "2",
     "output_type": "error",
     "traceback": [
      "An exception has occurred, use %tb to see the full traceback.\n",
      "\u001b[1;31mSystemExit\u001b[0m\u001b[1;31m:\u001b[0m 2\n"
     ]
    }
   ],
   "source": [
    "parser = argparse.ArgumentParser()\n",
    "\n",
    "parser.add_argument('month', type= str)\n",
    "parser.add_argument('year',type= str)\n",
    "args = parser.parse_args()\n",
    "\n",
    "\n",
    "list_month = list(args.month)\n",
    "status_month = 0\n",
    "\n",
    "for i in list_month:\n",
    "    try:\n",
    "        if isinstance(int(i), int):\n",
    "            status_month += 1\n",
    "    except ValueError:\n",
    "        status_year = 0\n",
    "assert status_month == 2, 'month is integer'\n",
    "\n",
    "list_year = list(args.year)\n",
    "status_year = 0\n",
    "\n",
    "for j in list_year:\n",
    "    try:\n",
    "        if isinstance(int(j), int):\n",
    "            status_year += 1\n",
    "    except ValueError:\n",
    "        status_year = 0\n",
    "\n",
    "assert status_year == 4, 'year is integer'\n",
    "\n",
    "month = args.month\n",
    "year = args.year\n",
    "try:\n",
    "    df_orders = pd.read_excel(fr\"C:\\Users\\Артур\\Downloads\\outcome_{month}.{year}.xlsx\", index_col = 0)\n",
    "\n",
    "except FileNotFoundError:\n",
    "    print(\"File not found((\")\n",
    "\n",
    "else:\n",
    "    df_orders[\"Дата\"]\n",
    "    [int(x.split()[0]) for x in df_orders['Дата']]\n",
    "    df_orders[\"День\"] = [int(x.split()[0]) for x in df_orders['Дата']]\n",
    "\n",
    "    fig,ax = plt.subplots(constrained_layout = True)\n",
    "\n",
    "    sns.barplot(\n",
    "        data=df_orders,\n",
    "        x=\"Сумма\",\n",
    "        y=\"Категория\",\n",
    "        orient = \"h\",\n",
    "        estimator=\"sum\",\n",
    "        errorbar=None,\n",
    "        hue = 'Категория',\n",
    "        ax=ax\n",
    "    )\n",
    "\n",
    "    plt.title(f'График зависимости Категории от трат {month}.{year}', fontsize=15)\n",
    "    plt.show()\n"
   ]
  },
  {
   "cell_type": "code",
   "execution_count": null,
   "id": "f5355dcd-024c-4d15-8799-071dc5b820da",
   "metadata": {},
   "outputs": [],
   "source": []
  }
 ],
 "metadata": {
  "kernelspec": {
   "display_name": "Python 3 (ipykernel)",
   "language": "python",
   "name": "python3"
  },
  "language_info": {
   "codemirror_mode": {
    "name": "ipython",
    "version": 3
   },
   "file_extension": ".py",
   "mimetype": "text/x-python",
   "name": "python",
   "nbconvert_exporter": "python",
   "pygments_lexer": "ipython3",
   "version": "3.11.5"
  }
 },
 "nbformat": 4,
 "nbformat_minor": 5
}
